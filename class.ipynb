{
  "cells": [
    {
      "cell_type": "markdown",
      "metadata": {
        "id": "view-in-github",
        "colab_type": "text"
      },
      "source": [
        "<a href=\"https://colab.research.google.com/github/SiSiLaLa/python_test/blob/main/class.ipynb\" target=\"_parent\"><img src=\"https://colab.research.google.com/assets/colab-badge.svg\" alt=\"Open In Colab\"/></a>"
      ]
    },
    {
      "cell_type": "code",
      "execution_count": null,
      "id": "91862237-6754-4549-b5ea-88240ef793e6",
      "metadata": {
        "id": "91862237-6754-4549-b5ea-88240ef793e6"
      },
      "outputs": [],
      "source": [
        "class CleaningRobot:\n",
        "    def __init__(self, size, suction_power, chaging_time):\n",
        "        self.size = size\n",
        "        self.suction_power = suction_power\n",
        "        self.chaging_time = chaging_time\n",
        "\n",
        "    def operating_time(self,chaging_time):\n",
        "        if chaging_time >= 2.0:\n",
        "            print(\"稼働時間はおよそ１時間です\")\n",
        "        else:\n",
        "            print(\"稼働時間はおよそ0.5時間です\")"
      ]
    },
    {
      "cell_type": "code",
      "execution_count": null,
      "id": "060c510d-57f6-4a19-bbb0-2e4d2c908eb4",
      "metadata": {
        "id": "060c510d-57f6-4a19-bbb0-2e4d2c908eb4"
      },
      "outputs": [],
      "source": [
        "osouji_kun = CleaningRobot(\"L\", \"strong\", \"2.0\")"
      ]
    },
    {
      "cell_type": "code",
      "execution_count": null,
      "id": "7afe4b83-4f0b-4da9-9d66-d5827778db85",
      "metadata": {
        "id": "7afe4b83-4f0b-4da9-9d66-d5827778db85",
        "outputId": "465ccefb-a496-43fe-d3fe-e126de42bc4a"
      },
      "outputs": [
        {
          "data": {
            "text/plain": [
              "'L'"
            ]
          },
          "execution_count": 3,
          "metadata": {},
          "output_type": "execute_result"
        }
      ],
      "source": [
        "osouji_kun.size"
      ]
    },
    {
      "cell_type": "code",
      "execution_count": null,
      "id": "e74f0539-1ccd-4008-9f59-bc5536379a98",
      "metadata": {
        "id": "e74f0539-1ccd-4008-9f59-bc5536379a98",
        "outputId": "7bfe5587-e17e-4b9b-c73f-2c968cef6203"
      },
      "outputs": [
        {
          "data": {
            "text/plain": [
              "'2.0'"
            ]
          },
          "execution_count": 5,
          "metadata": {},
          "output_type": "execute_result"
        }
      ],
      "source": [
        "osouji_kun.chaging_time"
      ]
    },
    {
      "cell_type": "code",
      "execution_count": null,
      "id": "a53cedee-4248-4e90-ba85-57594008829e",
      "metadata": {
        "id": "a53cedee-4248-4e90-ba85-57594008829e",
        "outputId": "ebb4738c-b7a9-4a32-881b-50d04a2e73d3"
      },
      "outputs": [
        {
          "name": "stdout",
          "output_type": "stream",
          "text": [
            "稼働時間はおよそ0.5時間です\n"
          ]
        }
      ],
      "source": [
        "osouji_kun.operating_time(1)"
      ]
    },
    {
      "cell_type": "code",
      "source": [],
      "metadata": {
        "id": "ErSqslPLWOWy"
      },
      "id": "ErSqslPLWOWy",
      "execution_count": null,
      "outputs": []
    },
    {
      "cell_type": "code",
      "metadata": {
        "colab": {
          "base_uri": "https://localhost:8080/"
        },
        "id": "6648d6bf",
        "outputId": "b3bbaef3-52c3-4ace-bbde-780b9801ef33"
      },
      "source": [
        "class CleaningRobot:\n",
        "    def __init__(self, size, suction_power, chaging_time):\n",
        "        self.size = size\n",
        "        self.suction_power = suction_power\n",
        "        self.chaging_time = chaging_time\n",
        "\n",
        "    def operating_time(self,chaging_time):\n",
        "        if chaging_time >= 2.0:\n",
        "            print(\"稼働時間はおよそ１時間です\")\n",
        "        else:\n",
        "            print(\"稼働時間はおよそ0.5時間です\")\n",
        "\n",
        "osouji_kun = CleaningRobot(\"L\", \"strong\", \"2.0\")\n",
        "\n",
        "osouji_kun.operating_time(2)"
      ],
      "id": "6648d6bf",
      "execution_count": null,
      "outputs": [
        {
          "output_type": "stream",
          "name": "stdout",
          "text": [
            "稼働時間はおよそ１時間です\n"
          ]
        }
      ]
    },
    {
      "cell_type": "code",
      "source": [
        "osouji_kun.operating_time(5)"
      ],
      "metadata": {
        "colab": {
          "base_uri": "https://localhost:8080/"
        },
        "id": "A4lJzLa6WWrJ",
        "outputId": "aa4f87d8-656d-4914-e234-06e0db7a2a48"
      },
      "id": "A4lJzLa6WWrJ",
      "execution_count": null,
      "outputs": [
        {
          "output_type": "stream",
          "name": "stdout",
          "text": [
            "稼働時間はおよそ１時間です\n"
          ]
        }
      ]
    },
    {
      "cell_type": "code",
      "source": [],
      "metadata": {
        "id": "Sa4GgBAjWY-o"
      },
      "id": "Sa4GgBAjWY-o",
      "execution_count": null,
      "outputs": []
    }
  ],
  "metadata": {
    "kernelspec": {
      "display_name": "Python [conda env:base] *",
      "language": "python",
      "name": "conda-base-py"
    },
    "language_info": {
      "codemirror_mode": {
        "name": "ipython",
        "version": 3
      },
      "file_extension": ".py",
      "mimetype": "text/x-python",
      "name": "python",
      "nbconvert_exporter": "python",
      "pygments_lexer": "ipython3",
      "version": "3.12.7"
    },
    "colab": {
      "provenance": [],
      "include_colab_link": true
    }
  },
  "nbformat": 4,
  "nbformat_minor": 5
}